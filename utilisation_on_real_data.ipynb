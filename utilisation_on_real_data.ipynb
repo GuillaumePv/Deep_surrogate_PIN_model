{
 "cells": [
  {
   "cell_type": "markdown",
   "metadata": {},
   "source": [
    "# Example of application to real data"
   ]
  },
  {
   "cell_type": "markdown",
   "metadata": {},
   "source": [
    "add script to scrap data with yahoo finance"
   ]
  },
  {
   "cell_type": "code",
   "execution_count": 70,
   "metadata": {},
   "outputs": [],
   "source": [
    "import pandas as pd\n",
    "import os\n",
    "import numpy as np\n",
    "import matplotlib.pyplot as plt\n",
    "from matplotlib import style"
   ]
  },
  {
   "cell_type": "code",
   "execution_count": 71,
   "metadata": {},
   "outputs": [
    {
     "name": "stdout",
     "output_type": "stream",
     "text": [
      "(3137, 3)\n"
     ]
    },
    {
     "data": {
      "text/html": [
       "<div>\n",
       "<style scoped>\n",
       "    .dataframe tbody tr th:only-of-type {\n",
       "        vertical-align: middle;\n",
       "    }\n",
       "\n",
       "    .dataframe tbody tr th {\n",
       "        vertical-align: top;\n",
       "    }\n",
       "\n",
       "    .dataframe thead th {\n",
       "        text-align: right;\n",
       "    }\n",
       "</style>\n",
       "<table border=\"1\" class=\"dataframe\">\n",
       "  <thead>\n",
       "    <tr style=\"text-align: right;\">\n",
       "      <th></th>\n",
       "      <th>Trade Close</th>\n",
       "      <th>Trade Count</th>\n",
       "      <th>Timestamp</th>\n",
       "    </tr>\n",
       "  </thead>\n",
       "  <tbody>\n",
       "    <tr>\n",
       "      <th>0</th>\n",
       "      <td>70.8</td>\n",
       "      <td>96</td>\n",
       "      <td>2021-12-30 19:00:00</td>\n",
       "    </tr>\n",
       "    <tr>\n",
       "      <th>1</th>\n",
       "      <td>70.8</td>\n",
       "      <td>88</td>\n",
       "      <td>2021-12-30 18:30:00</td>\n",
       "    </tr>\n",
       "    <tr>\n",
       "      <th>2</th>\n",
       "      <td>70.7</td>\n",
       "      <td>1</td>\n",
       "      <td>2021-12-30 18:00:00</td>\n",
       "    </tr>\n",
       "    <tr>\n",
       "      <th>3</th>\n",
       "      <td>70.8</td>\n",
       "      <td>9</td>\n",
       "      <td>2021-12-30 17:30:00</td>\n",
       "    </tr>\n",
       "    <tr>\n",
       "      <th>4</th>\n",
       "      <td>70.7</td>\n",
       "      <td>18</td>\n",
       "      <td>2021-12-30 17:00:00</td>\n",
       "    </tr>\n",
       "  </tbody>\n",
       "</table>\n",
       "</div>"
      ],
      "text/plain": [
       "   Trade Close  Trade Count           Timestamp\n",
       "0         70.8           96 2021-12-30 19:00:00\n",
       "1         70.8           88 2021-12-30 18:30:00\n",
       "2         70.7            1 2021-12-30 18:00:00\n",
       "3         70.8            9 2021-12-30 17:30:00\n",
       "4         70.7           18 2021-12-30 17:00:00"
      ]
     },
     "execution_count": 71,
     "metadata": {},
     "output_type": "execute_result"
    }
   ],
   "source": [
    "dataset = [\"vetropak\",\"vontonbel\",\"sig\",\"vaudoise\",\"bcv\"]\n",
    "name = \"vetropak\"\n",
    "path = \"./data/data_bcv.xlsx\"\n",
    "folder_results = './results/'+name\n",
    "if os.path.exists(folder_results) == False:\n",
    "    os.makedirs(folder_results)\n",
    "\n",
    "trade = pd.read_excel(path,sheet_name=\"trade_price\")\n",
    "print(trade.shape)\n",
    "trade.head(5)"
   ]
  },
  {
   "cell_type": "code",
   "execution_count": 72,
   "metadata": {},
   "outputs": [
    {
     "name": "stdout",
     "output_type": "stream",
     "text": [
      "(3033, 2)\n"
     ]
    },
    {
     "data": {
      "text/html": [
       "<div>\n",
       "<style scoped>\n",
       "    .dataframe tbody tr th:only-of-type {\n",
       "        vertical-align: middle;\n",
       "    }\n",
       "\n",
       "    .dataframe tbody tr th {\n",
       "        vertical-align: top;\n",
       "    }\n",
       "\n",
       "    .dataframe thead th {\n",
       "        text-align: right;\n",
       "    }\n",
       "</style>\n",
       "<table border=\"1\" class=\"dataframe\">\n",
       "  <thead>\n",
       "    <tr style=\"text-align: right;\">\n",
       "      <th></th>\n",
       "      <th>Bid Close</th>\n",
       "      <th>Timestamp</th>\n",
       "    </tr>\n",
       "  </thead>\n",
       "  <tbody>\n",
       "    <tr>\n",
       "      <th>0</th>\n",
       "      <td>70.1</td>\n",
       "      <td>2021-12-30 19:00:00</td>\n",
       "    </tr>\n",
       "    <tr>\n",
       "      <th>1</th>\n",
       "      <td>70.8</td>\n",
       "      <td>2021-12-30 18:30:00</td>\n",
       "    </tr>\n",
       "    <tr>\n",
       "      <th>2</th>\n",
       "      <td>70.7</td>\n",
       "      <td>2021-12-30 18:00:00</td>\n",
       "    </tr>\n",
       "    <tr>\n",
       "      <th>3</th>\n",
       "      <td>70.7</td>\n",
       "      <td>2021-12-30 17:30:00</td>\n",
       "    </tr>\n",
       "    <tr>\n",
       "      <th>4</th>\n",
       "      <td>70.7</td>\n",
       "      <td>2021-12-30 17:00:00</td>\n",
       "    </tr>\n",
       "  </tbody>\n",
       "</table>\n",
       "</div>"
      ],
      "text/plain": [
       "   Bid Close           Timestamp\n",
       "0       70.1 2021-12-30 19:00:00\n",
       "1       70.8 2021-12-30 18:30:00\n",
       "2       70.7 2021-12-30 18:00:00\n",
       "3       70.7 2021-12-30 17:30:00\n",
       "4       70.7 2021-12-30 17:00:00"
      ]
     },
     "execution_count": 72,
     "metadata": {},
     "output_type": "execute_result"
    }
   ],
   "source": [
    "bid = pd.read_excel(path,sheet_name=\"bid\")\n",
    "print(bid.shape)\n",
    "bid.head(5)"
   ]
  },
  {
   "cell_type": "code",
   "execution_count": 73,
   "metadata": {},
   "outputs": [
    {
     "name": "stdout",
     "output_type": "stream",
     "text": [
      "(3102, 2)\n"
     ]
    },
    {
     "data": {
      "text/html": [
       "<div>\n",
       "<style scoped>\n",
       "    .dataframe tbody tr th:only-of-type {\n",
       "        vertical-align: middle;\n",
       "    }\n",
       "\n",
       "    .dataframe tbody tr th {\n",
       "        vertical-align: top;\n",
       "    }\n",
       "\n",
       "    .dataframe thead th {\n",
       "        text-align: right;\n",
       "    }\n",
       "</style>\n",
       "<table border=\"1\" class=\"dataframe\">\n",
       "  <thead>\n",
       "    <tr style=\"text-align: right;\">\n",
       "      <th></th>\n",
       "      <th>Ask Close</th>\n",
       "      <th>Timestamp</th>\n",
       "    </tr>\n",
       "  </thead>\n",
       "  <tbody>\n",
       "    <tr>\n",
       "      <th>0</th>\n",
       "      <td>71.2</td>\n",
       "      <td>2021-12-30 19:00:00</td>\n",
       "    </tr>\n",
       "    <tr>\n",
       "      <th>1</th>\n",
       "      <td>70.9</td>\n",
       "      <td>2021-12-30 18:30:00</td>\n",
       "    </tr>\n",
       "    <tr>\n",
       "      <th>2</th>\n",
       "      <td>70.8</td>\n",
       "      <td>2021-12-30 18:00:00</td>\n",
       "    </tr>\n",
       "    <tr>\n",
       "      <th>3</th>\n",
       "      <td>70.9</td>\n",
       "      <td>2021-12-30 17:30:00</td>\n",
       "    </tr>\n",
       "    <tr>\n",
       "      <th>4</th>\n",
       "      <td>70.9</td>\n",
       "      <td>2021-12-30 17:00:00</td>\n",
       "    </tr>\n",
       "  </tbody>\n",
       "</table>\n",
       "</div>"
      ],
      "text/plain": [
       "   Ask Close           Timestamp\n",
       "0       71.2 2021-12-30 19:00:00\n",
       "1       70.9 2021-12-30 18:30:00\n",
       "2       70.8 2021-12-30 18:00:00\n",
       "3       70.9 2021-12-30 17:30:00\n",
       "4       70.9 2021-12-30 17:00:00"
      ]
     },
     "execution_count": 73,
     "metadata": {},
     "output_type": "execute_result"
    }
   ],
   "source": [
    "ask = pd.read_excel(path,sheet_name=\"ask\")\n",
    "print(ask.shape)\n",
    "ask.head(5)"
   ]
  },
  {
   "cell_type": "code",
   "execution_count": 74,
   "metadata": {},
   "outputs": [
    {
     "name": "stdout",
     "output_type": "stream",
     "text": [
      "(2924, 3)\n"
     ]
    }
   ],
   "source": [
    "bid_ask_merge = pd.merge(bid,ask,on=[\"Timestamp\"])\n",
    "print(bid_ask_merge.shape)"
   ]
  },
  {
   "cell_type": "code",
   "execution_count": 75,
   "metadata": {},
   "outputs": [
    {
     "data": {
      "text/html": [
       "<div>\n",
       "<style scoped>\n",
       "    .dataframe tbody tr th:only-of-type {\n",
       "        vertical-align: middle;\n",
       "    }\n",
       "\n",
       "    .dataframe tbody tr th {\n",
       "        vertical-align: top;\n",
       "    }\n",
       "\n",
       "    .dataframe thead th {\n",
       "        text-align: right;\n",
       "    }\n",
       "</style>\n",
       "<table border=\"1\" class=\"dataframe\">\n",
       "  <thead>\n",
       "    <tr style=\"text-align: right;\">\n",
       "      <th></th>\n",
       "      <th>Bid Close</th>\n",
       "      <th>Timestamp</th>\n",
       "      <th>Ask Close</th>\n",
       "    </tr>\n",
       "  </thead>\n",
       "  <tbody>\n",
       "    <tr>\n",
       "      <th>0</th>\n",
       "      <td>70.10</td>\n",
       "      <td>2021-12-30 19:00:00</td>\n",
       "      <td>71.2</td>\n",
       "    </tr>\n",
       "    <tr>\n",
       "      <th>1</th>\n",
       "      <td>70.80</td>\n",
       "      <td>2021-12-30 18:30:00</td>\n",
       "      <td>70.9</td>\n",
       "    </tr>\n",
       "    <tr>\n",
       "      <th>2</th>\n",
       "      <td>70.70</td>\n",
       "      <td>2021-12-30 18:00:00</td>\n",
       "      <td>70.8</td>\n",
       "    </tr>\n",
       "    <tr>\n",
       "      <th>3</th>\n",
       "      <td>70.70</td>\n",
       "      <td>2021-12-30 17:30:00</td>\n",
       "      <td>70.9</td>\n",
       "    </tr>\n",
       "    <tr>\n",
       "      <th>4</th>\n",
       "      <td>70.70</td>\n",
       "      <td>2021-12-30 17:00:00</td>\n",
       "      <td>70.9</td>\n",
       "    </tr>\n",
       "    <tr>\n",
       "      <th>...</th>\n",
       "      <td>...</td>\n",
       "      <td>...</td>\n",
       "      <td>...</td>\n",
       "    </tr>\n",
       "    <tr>\n",
       "      <th>2919</th>\n",
       "      <td>48.55</td>\n",
       "      <td>2021-06-08 15:30:00</td>\n",
       "      <td>82.7</td>\n",
       "    </tr>\n",
       "    <tr>\n",
       "      <th>2920</th>\n",
       "      <td>25.20</td>\n",
       "      <td>2021-06-08 15:30:00</td>\n",
       "      <td>82.7</td>\n",
       "    </tr>\n",
       "    <tr>\n",
       "      <th>2921</th>\n",
       "      <td>82.70</td>\n",
       "      <td>2021-06-08 15:00:00</td>\n",
       "      <td>82.8</td>\n",
       "    </tr>\n",
       "    <tr>\n",
       "      <th>2922</th>\n",
       "      <td>48.55</td>\n",
       "      <td>2021-06-08 15:00:00</td>\n",
       "      <td>82.8</td>\n",
       "    </tr>\n",
       "    <tr>\n",
       "      <th>2923</th>\n",
       "      <td>25.02</td>\n",
       "      <td>2021-06-08 15:00:00</td>\n",
       "      <td>82.8</td>\n",
       "    </tr>\n",
       "  </tbody>\n",
       "</table>\n",
       "<p>2924 rows × 3 columns</p>\n",
       "</div>"
      ],
      "text/plain": [
       "      Bid Close           Timestamp  Ask Close\n",
       "0         70.10 2021-12-30 19:00:00       71.2\n",
       "1         70.80 2021-12-30 18:30:00       70.9\n",
       "2         70.70 2021-12-30 18:00:00       70.8\n",
       "3         70.70 2021-12-30 17:30:00       70.9\n",
       "4         70.70 2021-12-30 17:00:00       70.9\n",
       "...         ...                 ...        ...\n",
       "2919      48.55 2021-06-08 15:30:00       82.7\n",
       "2920      25.20 2021-06-08 15:30:00       82.7\n",
       "2921      82.70 2021-06-08 15:00:00       82.8\n",
       "2922      48.55 2021-06-08 15:00:00       82.8\n",
       "2923      25.02 2021-06-08 15:00:00       82.8\n",
       "\n",
       "[2924 rows x 3 columns]"
      ]
     },
     "execution_count": 75,
     "metadata": {},
     "output_type": "execute_result"
    }
   ],
   "source": [
    "bid_ask_merge"
   ]
  },
  {
   "cell_type": "code",
   "execution_count": 76,
   "metadata": {},
   "outputs": [
    {
     "data": {
      "text/html": [
       "<div>\n",
       "<style scoped>\n",
       "    .dataframe tbody tr th:only-of-type {\n",
       "        vertical-align: middle;\n",
       "    }\n",
       "\n",
       "    .dataframe tbody tr th {\n",
       "        vertical-align: top;\n",
       "    }\n",
       "\n",
       "    .dataframe thead th {\n",
       "        text-align: right;\n",
       "    }\n",
       "</style>\n",
       "<table border=\"1\" class=\"dataframe\">\n",
       "  <thead>\n",
       "    <tr style=\"text-align: right;\">\n",
       "      <th></th>\n",
       "      <th>Bid Close</th>\n",
       "      <th>Timestamp</th>\n",
       "      <th>Ask Close</th>\n",
       "      <th>midpoint</th>\n",
       "    </tr>\n",
       "  </thead>\n",
       "  <tbody>\n",
       "    <tr>\n",
       "      <th>0</th>\n",
       "      <td>70.10</td>\n",
       "      <td>2021-12-30 19:00:00</td>\n",
       "      <td>71.2</td>\n",
       "      <td>70.650</td>\n",
       "    </tr>\n",
       "    <tr>\n",
       "      <th>1</th>\n",
       "      <td>70.80</td>\n",
       "      <td>2021-12-30 18:30:00</td>\n",
       "      <td>70.9</td>\n",
       "      <td>70.850</td>\n",
       "    </tr>\n",
       "    <tr>\n",
       "      <th>2</th>\n",
       "      <td>70.70</td>\n",
       "      <td>2021-12-30 18:00:00</td>\n",
       "      <td>70.8</td>\n",
       "      <td>70.750</td>\n",
       "    </tr>\n",
       "    <tr>\n",
       "      <th>3</th>\n",
       "      <td>70.70</td>\n",
       "      <td>2021-12-30 17:30:00</td>\n",
       "      <td>70.9</td>\n",
       "      <td>70.800</td>\n",
       "    </tr>\n",
       "    <tr>\n",
       "      <th>4</th>\n",
       "      <td>70.70</td>\n",
       "      <td>2021-12-30 17:00:00</td>\n",
       "      <td>70.9</td>\n",
       "      <td>70.800</td>\n",
       "    </tr>\n",
       "    <tr>\n",
       "      <th>...</th>\n",
       "      <td>...</td>\n",
       "      <td>...</td>\n",
       "      <td>...</td>\n",
       "      <td>...</td>\n",
       "    </tr>\n",
       "    <tr>\n",
       "      <th>2919</th>\n",
       "      <td>48.55</td>\n",
       "      <td>2021-06-08 15:30:00</td>\n",
       "      <td>82.7</td>\n",
       "      <td>65.625</td>\n",
       "    </tr>\n",
       "    <tr>\n",
       "      <th>2920</th>\n",
       "      <td>25.20</td>\n",
       "      <td>2021-06-08 15:30:00</td>\n",
       "      <td>82.7</td>\n",
       "      <td>53.950</td>\n",
       "    </tr>\n",
       "    <tr>\n",
       "      <th>2921</th>\n",
       "      <td>82.70</td>\n",
       "      <td>2021-06-08 15:00:00</td>\n",
       "      <td>82.8</td>\n",
       "      <td>82.750</td>\n",
       "    </tr>\n",
       "    <tr>\n",
       "      <th>2922</th>\n",
       "      <td>48.55</td>\n",
       "      <td>2021-06-08 15:00:00</td>\n",
       "      <td>82.8</td>\n",
       "      <td>65.675</td>\n",
       "    </tr>\n",
       "    <tr>\n",
       "      <th>2923</th>\n",
       "      <td>25.02</td>\n",
       "      <td>2021-06-08 15:00:00</td>\n",
       "      <td>82.8</td>\n",
       "      <td>53.910</td>\n",
       "    </tr>\n",
       "  </tbody>\n",
       "</table>\n",
       "<p>2924 rows × 4 columns</p>\n",
       "</div>"
      ],
      "text/plain": [
       "      Bid Close           Timestamp  Ask Close  midpoint\n",
       "0         70.10 2021-12-30 19:00:00       71.2    70.650\n",
       "1         70.80 2021-12-30 18:30:00       70.9    70.850\n",
       "2         70.70 2021-12-30 18:00:00       70.8    70.750\n",
       "3         70.70 2021-12-30 17:30:00       70.9    70.800\n",
       "4         70.70 2021-12-30 17:00:00       70.9    70.800\n",
       "...         ...                 ...        ...       ...\n",
       "2919      48.55 2021-06-08 15:30:00       82.7    65.625\n",
       "2920      25.20 2021-06-08 15:30:00       82.7    53.950\n",
       "2921      82.70 2021-06-08 15:00:00       82.8    82.750\n",
       "2922      48.55 2021-06-08 15:00:00       82.8    65.675\n",
       "2923      25.02 2021-06-08 15:00:00       82.8    53.910\n",
       "\n",
       "[2924 rows x 4 columns]"
      ]
     },
     "execution_count": 76,
     "metadata": {},
     "output_type": "execute_result"
    }
   ],
   "source": [
    "bid_ask_merge[\"midpoint\"]= (bid_ask_merge[\"Bid Close\"]+bid_ask_merge[\"Ask Close\"])/2\n",
    "bid_ask_merge"
   ]
  },
  {
   "cell_type": "code",
   "execution_count": 77,
   "metadata": {},
   "outputs": [
    {
     "data": {
      "text/html": [
       "<div>\n",
       "<style scoped>\n",
       "    .dataframe tbody tr th:only-of-type {\n",
       "        vertical-align: middle;\n",
       "    }\n",
       "\n",
       "    .dataframe tbody tr th {\n",
       "        vertical-align: top;\n",
       "    }\n",
       "\n",
       "    .dataframe thead th {\n",
       "        text-align: right;\n",
       "    }\n",
       "</style>\n",
       "<table border=\"1\" class=\"dataframe\">\n",
       "  <thead>\n",
       "    <tr style=\"text-align: right;\">\n",
       "      <th></th>\n",
       "      <th>Bid Close</th>\n",
       "      <th>Timestamp</th>\n",
       "      <th>Ask Close</th>\n",
       "      <th>midpoint</th>\n",
       "      <th>Trade Close</th>\n",
       "      <th>Trade Count</th>\n",
       "      <th>bid-ask spread</th>\n",
       "    </tr>\n",
       "  </thead>\n",
       "  <tbody>\n",
       "    <tr>\n",
       "      <th>0</th>\n",
       "      <td>70.10</td>\n",
       "      <td>2021-12-30 19:00:00</td>\n",
       "      <td>71.2</td>\n",
       "      <td>70.650</td>\n",
       "      <td>70.8</td>\n",
       "      <td>96</td>\n",
       "      <td>1.10</td>\n",
       "    </tr>\n",
       "    <tr>\n",
       "      <th>1</th>\n",
       "      <td>70.80</td>\n",
       "      <td>2021-12-30 18:30:00</td>\n",
       "      <td>70.9</td>\n",
       "      <td>70.850</td>\n",
       "      <td>70.8</td>\n",
       "      <td>88</td>\n",
       "      <td>0.10</td>\n",
       "    </tr>\n",
       "    <tr>\n",
       "      <th>2</th>\n",
       "      <td>70.70</td>\n",
       "      <td>2021-12-30 18:00:00</td>\n",
       "      <td>70.8</td>\n",
       "      <td>70.750</td>\n",
       "      <td>70.7</td>\n",
       "      <td>1</td>\n",
       "      <td>0.10</td>\n",
       "    </tr>\n",
       "    <tr>\n",
       "      <th>3</th>\n",
       "      <td>70.70</td>\n",
       "      <td>2021-12-30 17:30:00</td>\n",
       "      <td>70.9</td>\n",
       "      <td>70.800</td>\n",
       "      <td>70.8</td>\n",
       "      <td>9</td>\n",
       "      <td>0.20</td>\n",
       "    </tr>\n",
       "    <tr>\n",
       "      <th>4</th>\n",
       "      <td>70.70</td>\n",
       "      <td>2021-12-30 17:00:00</td>\n",
       "      <td>70.9</td>\n",
       "      <td>70.800</td>\n",
       "      <td>70.7</td>\n",
       "      <td>18</td>\n",
       "      <td>0.20</td>\n",
       "    </tr>\n",
       "    <tr>\n",
       "      <th>...</th>\n",
       "      <td>...</td>\n",
       "      <td>...</td>\n",
       "      <td>...</td>\n",
       "      <td>...</td>\n",
       "      <td>...</td>\n",
       "      <td>...</td>\n",
       "      <td>...</td>\n",
       "    </tr>\n",
       "    <tr>\n",
       "      <th>2740</th>\n",
       "      <td>48.55</td>\n",
       "      <td>2021-06-08 15:30:00</td>\n",
       "      <td>82.7</td>\n",
       "      <td>65.625</td>\n",
       "      <td>82.7</td>\n",
       "      <td>73</td>\n",
       "      <td>34.15</td>\n",
       "    </tr>\n",
       "    <tr>\n",
       "      <th>2741</th>\n",
       "      <td>25.20</td>\n",
       "      <td>2021-06-08 15:30:00</td>\n",
       "      <td>82.7</td>\n",
       "      <td>53.950</td>\n",
       "      <td>82.7</td>\n",
       "      <td>73</td>\n",
       "      <td>57.50</td>\n",
       "    </tr>\n",
       "    <tr>\n",
       "      <th>2742</th>\n",
       "      <td>82.70</td>\n",
       "      <td>2021-06-08 15:00:00</td>\n",
       "      <td>82.8</td>\n",
       "      <td>82.750</td>\n",
       "      <td>82.8</td>\n",
       "      <td>69</td>\n",
       "      <td>0.10</td>\n",
       "    </tr>\n",
       "    <tr>\n",
       "      <th>2743</th>\n",
       "      <td>48.55</td>\n",
       "      <td>2021-06-08 15:00:00</td>\n",
       "      <td>82.8</td>\n",
       "      <td>65.675</td>\n",
       "      <td>82.8</td>\n",
       "      <td>69</td>\n",
       "      <td>34.25</td>\n",
       "    </tr>\n",
       "    <tr>\n",
       "      <th>2744</th>\n",
       "      <td>25.02</td>\n",
       "      <td>2021-06-08 15:00:00</td>\n",
       "      <td>82.8</td>\n",
       "      <td>53.910</td>\n",
       "      <td>82.8</td>\n",
       "      <td>69</td>\n",
       "      <td>57.78</td>\n",
       "    </tr>\n",
       "  </tbody>\n",
       "</table>\n",
       "<p>2745 rows × 7 columns</p>\n",
       "</div>"
      ],
      "text/plain": [
       "      Bid Close           Timestamp  Ask Close  midpoint  Trade Close  \\\n",
       "0         70.10 2021-12-30 19:00:00       71.2    70.650         70.8   \n",
       "1         70.80 2021-12-30 18:30:00       70.9    70.850         70.8   \n",
       "2         70.70 2021-12-30 18:00:00       70.8    70.750         70.7   \n",
       "3         70.70 2021-12-30 17:30:00       70.9    70.800         70.8   \n",
       "4         70.70 2021-12-30 17:00:00       70.9    70.800         70.7   \n",
       "...         ...                 ...        ...       ...          ...   \n",
       "2740      48.55 2021-06-08 15:30:00       82.7    65.625         82.7   \n",
       "2741      25.20 2021-06-08 15:30:00       82.7    53.950         82.7   \n",
       "2742      82.70 2021-06-08 15:00:00       82.8    82.750         82.8   \n",
       "2743      48.55 2021-06-08 15:00:00       82.8    65.675         82.8   \n",
       "2744      25.02 2021-06-08 15:00:00       82.8    53.910         82.8   \n",
       "\n",
       "      Trade Count  bid-ask spread  \n",
       "0              96            1.10  \n",
       "1              88            0.10  \n",
       "2               1            0.10  \n",
       "3               9            0.20  \n",
       "4              18            0.20  \n",
       "...           ...             ...  \n",
       "2740           73           34.15  \n",
       "2741           73           57.50  \n",
       "2742           69            0.10  \n",
       "2743           69           34.25  \n",
       "2744           69           57.78  \n",
       "\n",
       "[2745 rows x 7 columns]"
      ]
     },
     "execution_count": 77,
     "metadata": {},
     "output_type": "execute_result"
    }
   ],
   "source": [
    "final_merged = pd.merge(bid_ask_merge,trade,on=[\"Timestamp\"])\n",
    "final_merged[\"bid-ask spread\"] = final_merged[\"Ask Close\"] - final_merged[\"Bid Close\"]\n",
    "final_merged"
   ]
  },
  {
   "cell_type": "code",
   "execution_count": 78,
   "metadata": {},
   "outputs": [
    {
     "data": {
      "text/html": [
       "<div>\n",
       "<style scoped>\n",
       "    .dataframe tbody tr th:only-of-type {\n",
       "        vertical-align: middle;\n",
       "    }\n",
       "\n",
       "    .dataframe tbody tr th {\n",
       "        vertical-align: top;\n",
       "    }\n",
       "\n",
       "    .dataframe thead th {\n",
       "        text-align: right;\n",
       "    }\n",
       "</style>\n",
       "<table border=\"1\" class=\"dataframe\">\n",
       "  <thead>\n",
       "    <tr style=\"text-align: right;\">\n",
       "      <th></th>\n",
       "      <th>Bid Close</th>\n",
       "      <th>Timestamp</th>\n",
       "      <th>Ask Close</th>\n",
       "      <th>midpoint</th>\n",
       "      <th>Trade Close</th>\n",
       "      <th>Trade Count</th>\n",
       "      <th>bid-ask spread</th>\n",
       "      <th>direction_trade</th>\n",
       "    </tr>\n",
       "  </thead>\n",
       "  <tbody>\n",
       "    <tr>\n",
       "      <th>0</th>\n",
       "      <td>70.1</td>\n",
       "      <td>2021-12-30 19:00:00</td>\n",
       "      <td>71.2</td>\n",
       "      <td>70.65</td>\n",
       "      <td>70.8</td>\n",
       "      <td>96</td>\n",
       "      <td>1.1</td>\n",
       "      <td>buy</td>\n",
       "    </tr>\n",
       "    <tr>\n",
       "      <th>1</th>\n",
       "      <td>70.8</td>\n",
       "      <td>2021-12-30 18:30:00</td>\n",
       "      <td>70.9</td>\n",
       "      <td>70.85</td>\n",
       "      <td>70.8</td>\n",
       "      <td>88</td>\n",
       "      <td>0.1</td>\n",
       "      <td>sell</td>\n",
       "    </tr>\n",
       "    <tr>\n",
       "      <th>2</th>\n",
       "      <td>70.7</td>\n",
       "      <td>2021-12-30 18:00:00</td>\n",
       "      <td>70.8</td>\n",
       "      <td>70.75</td>\n",
       "      <td>70.7</td>\n",
       "      <td>1</td>\n",
       "      <td>0.1</td>\n",
       "      <td>sell</td>\n",
       "    </tr>\n",
       "    <tr>\n",
       "      <th>3</th>\n",
       "      <td>70.7</td>\n",
       "      <td>2021-12-30 17:30:00</td>\n",
       "      <td>70.9</td>\n",
       "      <td>70.80</td>\n",
       "      <td>70.8</td>\n",
       "      <td>9</td>\n",
       "      <td>0.2</td>\n",
       "      <td>sell</td>\n",
       "    </tr>\n",
       "    <tr>\n",
       "      <th>4</th>\n",
       "      <td>70.7</td>\n",
       "      <td>2021-12-30 17:00:00</td>\n",
       "      <td>70.9</td>\n",
       "      <td>70.80</td>\n",
       "      <td>70.7</td>\n",
       "      <td>18</td>\n",
       "      <td>0.2</td>\n",
       "      <td>sell</td>\n",
       "    </tr>\n",
       "  </tbody>\n",
       "</table>\n",
       "</div>"
      ],
      "text/plain": [
       "   Bid Close           Timestamp  Ask Close  midpoint  Trade Close  \\\n",
       "0       70.1 2021-12-30 19:00:00       71.2     70.65         70.8   \n",
       "1       70.8 2021-12-30 18:30:00       70.9     70.85         70.8   \n",
       "2       70.7 2021-12-30 18:00:00       70.8     70.75         70.7   \n",
       "3       70.7 2021-12-30 17:30:00       70.9     70.80         70.8   \n",
       "4       70.7 2021-12-30 17:00:00       70.9     70.80         70.7   \n",
       "\n",
       "   Trade Count  bid-ask spread direction_trade  \n",
       "0           96             1.1             buy  \n",
       "1           88             0.1            sell  \n",
       "2            1             0.1            sell  \n",
       "3            9             0.2            sell  \n",
       "4           18             0.2            sell  "
      ]
     },
     "execution_count": 78,
     "metadata": {},
     "output_type": "execute_result"
    }
   ],
   "source": [
    "final_merged['direction_trade'] = np.where(final_merged['Trade Close']>= final_merged['midpoint'], \"buy\", \"sell\")\n",
    "final_merged.head()"
   ]
  },
  {
   "cell_type": "code",
   "execution_count": 79,
   "metadata": {},
   "outputs": [
    {
     "data": {
      "text/html": [
       "<div>\n",
       "<style scoped>\n",
       "    .dataframe tbody tr th:only-of-type {\n",
       "        vertical-align: middle;\n",
       "    }\n",
       "\n",
       "    .dataframe tbody tr th {\n",
       "        vertical-align: top;\n",
       "    }\n",
       "\n",
       "    .dataframe thead th {\n",
       "        text-align: right;\n",
       "    }\n",
       "</style>\n",
       "<table border=\"1\" class=\"dataframe\">\n",
       "  <thead>\n",
       "    <tr style=\"text-align: right;\">\n",
       "      <th></th>\n",
       "      <th>Timestamp</th>\n",
       "      <th>Trade Close</th>\n",
       "      <th>Trade Count</th>\n",
       "      <th>direction_trade</th>\n",
       "      <th>midpoint</th>\n",
       "    </tr>\n",
       "  </thead>\n",
       "  <tbody>\n",
       "    <tr>\n",
       "      <th>0</th>\n",
       "      <td>2021-12-30 19:00:00</td>\n",
       "      <td>70.8</td>\n",
       "      <td>96</td>\n",
       "      <td>buy</td>\n",
       "      <td>70.650</td>\n",
       "    </tr>\n",
       "    <tr>\n",
       "      <th>1</th>\n",
       "      <td>2021-12-30 18:30:00</td>\n",
       "      <td>70.8</td>\n",
       "      <td>88</td>\n",
       "      <td>sell</td>\n",
       "      <td>70.850</td>\n",
       "    </tr>\n",
       "    <tr>\n",
       "      <th>2</th>\n",
       "      <td>2021-12-30 18:00:00</td>\n",
       "      <td>70.7</td>\n",
       "      <td>1</td>\n",
       "      <td>sell</td>\n",
       "      <td>70.750</td>\n",
       "    </tr>\n",
       "    <tr>\n",
       "      <th>3</th>\n",
       "      <td>2021-12-30 17:30:00</td>\n",
       "      <td>70.8</td>\n",
       "      <td>9</td>\n",
       "      <td>sell</td>\n",
       "      <td>70.800</td>\n",
       "    </tr>\n",
       "    <tr>\n",
       "      <th>4</th>\n",
       "      <td>2021-12-30 17:00:00</td>\n",
       "      <td>70.7</td>\n",
       "      <td>18</td>\n",
       "      <td>sell</td>\n",
       "      <td>70.800</td>\n",
       "    </tr>\n",
       "    <tr>\n",
       "      <th>...</th>\n",
       "      <td>...</td>\n",
       "      <td>...</td>\n",
       "      <td>...</td>\n",
       "      <td>...</td>\n",
       "      <td>...</td>\n",
       "    </tr>\n",
       "    <tr>\n",
       "      <th>2740</th>\n",
       "      <td>2021-06-08 15:30:00</td>\n",
       "      <td>82.7</td>\n",
       "      <td>73</td>\n",
       "      <td>buy</td>\n",
       "      <td>65.625</td>\n",
       "    </tr>\n",
       "    <tr>\n",
       "      <th>2741</th>\n",
       "      <td>2021-06-08 15:30:00</td>\n",
       "      <td>82.7</td>\n",
       "      <td>73</td>\n",
       "      <td>buy</td>\n",
       "      <td>53.950</td>\n",
       "    </tr>\n",
       "    <tr>\n",
       "      <th>2742</th>\n",
       "      <td>2021-06-08 15:00:00</td>\n",
       "      <td>82.8</td>\n",
       "      <td>69</td>\n",
       "      <td>buy</td>\n",
       "      <td>82.750</td>\n",
       "    </tr>\n",
       "    <tr>\n",
       "      <th>2743</th>\n",
       "      <td>2021-06-08 15:00:00</td>\n",
       "      <td>82.8</td>\n",
       "      <td>69</td>\n",
       "      <td>buy</td>\n",
       "      <td>65.675</td>\n",
       "    </tr>\n",
       "    <tr>\n",
       "      <th>2744</th>\n",
       "      <td>2021-06-08 15:00:00</td>\n",
       "      <td>82.8</td>\n",
       "      <td>69</td>\n",
       "      <td>buy</td>\n",
       "      <td>53.910</td>\n",
       "    </tr>\n",
       "  </tbody>\n",
       "</table>\n",
       "<p>2745 rows × 5 columns</p>\n",
       "</div>"
      ],
      "text/plain": [
       "               Timestamp  Trade Close  Trade Count direction_trade  midpoint\n",
       "0    2021-12-30 19:00:00         70.8           96             buy    70.650\n",
       "1    2021-12-30 18:30:00         70.8           88            sell    70.850\n",
       "2    2021-12-30 18:00:00         70.7            1            sell    70.750\n",
       "3    2021-12-30 17:30:00         70.8            9            sell    70.800\n",
       "4    2021-12-30 17:00:00         70.7           18            sell    70.800\n",
       "...                  ...          ...          ...             ...       ...\n",
       "2740 2021-06-08 15:30:00         82.7           73             buy    65.625\n",
       "2741 2021-06-08 15:30:00         82.7           73             buy    53.950\n",
       "2742 2021-06-08 15:00:00         82.8           69             buy    82.750\n",
       "2743 2021-06-08 15:00:00         82.8           69             buy    65.675\n",
       "2744 2021-06-08 15:00:00         82.8           69             buy    53.910\n",
       "\n",
       "[2745 rows x 5 columns]"
      ]
     },
     "execution_count": 79,
     "metadata": {},
     "output_type": "execute_result"
    }
   ],
   "source": [
    "data_final = final_merged[[\"Timestamp\",\"Trade Close\",\"Trade Count\",\"direction_trade\",\"midpoint\"]]\n",
    "\n",
    "data_final"
   ]
  },
  {
   "cell_type": "code",
   "execution_count": 80,
   "metadata": {},
   "outputs": [
    {
     "data": {
      "text/html": [
       "<div>\n",
       "<style scoped>\n",
       "    .dataframe tbody tr th:only-of-type {\n",
       "        vertical-align: middle;\n",
       "    }\n",
       "\n",
       "    .dataframe tbody tr th {\n",
       "        vertical-align: top;\n",
       "    }\n",
       "\n",
       "    .dataframe thead th {\n",
       "        text-align: right;\n",
       "    }\n",
       "</style>\n",
       "<table border=\"1\" class=\"dataframe\">\n",
       "  <thead>\n",
       "    <tr style=\"text-align: right;\">\n",
       "      <th></th>\n",
       "      <th>Timestamp</th>\n",
       "      <th>Trade Close</th>\n",
       "      <th>Trade Count</th>\n",
       "      <th>direction_trade</th>\n",
       "      <th>midpoint</th>\n",
       "    </tr>\n",
       "  </thead>\n",
       "  <tbody>\n",
       "    <tr>\n",
       "      <th>0</th>\n",
       "      <td>2021-12-30 19:00:00</td>\n",
       "      <td>70.8</td>\n",
       "      <td>96</td>\n",
       "      <td>buy</td>\n",
       "      <td>70.65</td>\n",
       "    </tr>\n",
       "    <tr>\n",
       "      <th>1</th>\n",
       "      <td>2021-12-30 18:30:00</td>\n",
       "      <td>70.8</td>\n",
       "      <td>88</td>\n",
       "      <td>sell</td>\n",
       "      <td>70.85</td>\n",
       "    </tr>\n",
       "    <tr>\n",
       "      <th>2</th>\n",
       "      <td>2021-12-30 18:00:00</td>\n",
       "      <td>70.7</td>\n",
       "      <td>1</td>\n",
       "      <td>sell</td>\n",
       "      <td>70.75</td>\n",
       "    </tr>\n",
       "    <tr>\n",
       "      <th>3</th>\n",
       "      <td>2021-12-30 17:30:00</td>\n",
       "      <td>70.8</td>\n",
       "      <td>9</td>\n",
       "      <td>sell</td>\n",
       "      <td>70.80</td>\n",
       "    </tr>\n",
       "    <tr>\n",
       "      <th>4</th>\n",
       "      <td>2021-12-30 17:00:00</td>\n",
       "      <td>70.7</td>\n",
       "      <td>18</td>\n",
       "      <td>sell</td>\n",
       "      <td>70.80</td>\n",
       "    </tr>\n",
       "  </tbody>\n",
       "</table>\n",
       "</div>"
      ],
      "text/plain": [
       "            Timestamp  Trade Close  Trade Count direction_trade  midpoint\n",
       "0 2021-12-30 19:00:00         70.8           96             buy     70.65\n",
       "1 2021-12-30 18:30:00         70.8           88            sell     70.85\n",
       "2 2021-12-30 18:00:00         70.7            1            sell     70.75\n",
       "3 2021-12-30 17:30:00         70.8            9            sell     70.80\n",
       "4 2021-12-30 17:00:00         70.7           18            sell     70.80"
      ]
     },
     "execution_count": 80,
     "metadata": {},
     "output_type": "execute_result"
    }
   ],
   "source": [
    "test = data_final.copy()\n",
    "test.head(5)"
   ]
  },
  {
   "cell_type": "code",
   "execution_count": 81,
   "metadata": {},
   "outputs": [
    {
     "data": {
      "text/html": [
       "<div>\n",
       "<style scoped>\n",
       "    .dataframe tbody tr th:only-of-type {\n",
       "        vertical-align: middle;\n",
       "    }\n",
       "\n",
       "    .dataframe tbody tr th {\n",
       "        vertical-align: top;\n",
       "    }\n",
       "\n",
       "    .dataframe thead th {\n",
       "        text-align: right;\n",
       "    }\n",
       "</style>\n",
       "<table border=\"1\" class=\"dataframe\">\n",
       "  <thead>\n",
       "    <tr style=\"text-align: right;\">\n",
       "      <th></th>\n",
       "      <th></th>\n",
       "      <th>Trade Close</th>\n",
       "      <th>Trade Count</th>\n",
       "      <th>midpoint</th>\n",
       "    </tr>\n",
       "    <tr>\n",
       "      <th>direction_trade</th>\n",
       "      <th>Timestamp</th>\n",
       "      <th></th>\n",
       "      <th></th>\n",
       "      <th></th>\n",
       "    </tr>\n",
       "  </thead>\n",
       "  <tbody>\n",
       "    <tr>\n",
       "      <th rowspan=\"5\" valign=\"top\">buy</th>\n",
       "      <th>2021-06-08</th>\n",
       "      <td>1159.0</td>\n",
       "      <td>1507</td>\n",
       "      <td>906.215</td>\n",
       "    </tr>\n",
       "    <tr>\n",
       "      <th>2021-06-09</th>\n",
       "      <td>1975.0</td>\n",
       "      <td>1043</td>\n",
       "      <td>1498.810</td>\n",
       "    </tr>\n",
       "    <tr>\n",
       "      <th>2021-06-10</th>\n",
       "      <td>1897.4</td>\n",
       "      <td>563</td>\n",
       "      <td>1557.640</td>\n",
       "    </tr>\n",
       "    <tr>\n",
       "      <th>2021-06-11</th>\n",
       "      <td>992.9</td>\n",
       "      <td>505</td>\n",
       "      <td>990.100</td>\n",
       "    </tr>\n",
       "    <tr>\n",
       "      <th>2021-06-12</th>\n",
       "      <td>0.0</td>\n",
       "      <td>0</td>\n",
       "      <td>0.000</td>\n",
       "    </tr>\n",
       "    <tr>\n",
       "      <th>...</th>\n",
       "      <th>...</th>\n",
       "      <td>...</td>\n",
       "      <td>...</td>\n",
       "      <td>...</td>\n",
       "    </tr>\n",
       "    <tr>\n",
       "      <th rowspan=\"5\" valign=\"top\">sell</th>\n",
       "      <th>2021-12-26</th>\n",
       "      <td>0.0</td>\n",
       "      <td>0</td>\n",
       "      <td>0.000</td>\n",
       "    </tr>\n",
       "    <tr>\n",
       "      <th>2021-12-27</th>\n",
       "      <td>210.6</td>\n",
       "      <td>32</td>\n",
       "      <td>210.750</td>\n",
       "    </tr>\n",
       "    <tr>\n",
       "      <th>2021-12-28</th>\n",
       "      <td>422.6</td>\n",
       "      <td>170</td>\n",
       "      <td>423.000</td>\n",
       "    </tr>\n",
       "    <tr>\n",
       "      <th>2021-12-29</th>\n",
       "      <td>631.7</td>\n",
       "      <td>229</td>\n",
       "      <td>632.250</td>\n",
       "    </tr>\n",
       "    <tr>\n",
       "      <th>2021-12-30</th>\n",
       "      <td>635.2</td>\n",
       "      <td>224</td>\n",
       "      <td>635.750</td>\n",
       "    </tr>\n",
       "  </tbody>\n",
       "</table>\n",
       "<p>412 rows × 3 columns</p>\n",
       "</div>"
      ],
      "text/plain": [
       "                            Trade Close  Trade Count  midpoint\n",
       "direction_trade Timestamp                                     \n",
       "buy             2021-06-08       1159.0         1507   906.215\n",
       "                2021-06-09       1975.0         1043  1498.810\n",
       "                2021-06-10       1897.4          563  1557.640\n",
       "                2021-06-11        992.9          505   990.100\n",
       "                2021-06-12          0.0            0     0.000\n",
       "...                                 ...          ...       ...\n",
       "sell            2021-12-26          0.0            0     0.000\n",
       "                2021-12-27        210.6           32   210.750\n",
       "                2021-12-28        422.6          170   423.000\n",
       "                2021-12-29        631.7          229   632.250\n",
       "                2021-12-30        635.2          224   635.750\n",
       "\n",
       "[412 rows x 3 columns]"
      ]
     },
     "execution_count": 81,
     "metadata": {},
     "output_type": "execute_result"
    }
   ],
   "source": [
    "test = data_final.copy()\n",
    "test[\"Timestamp\"] = pd.to_datetime(test[\"Timestamp\"]) # only if it isn't already\n",
    "test = test.set_index(\"Timestamp\")\n",
    "agre_data = test.groupby(\"direction_trade\").resample('D').sum()\n",
    "agre_data"
   ]
  },
  {
   "cell_type": "code",
   "execution_count": 82,
   "metadata": {},
   "outputs": [],
   "source": [
    "buy = agre_data[\"Trade Count\"].loc[\"buy\"].T\n",
    "sell = agre_data[\"Trade Count\"].loc[\"sell\"].T"
   ]
  },
  {
   "cell_type": "code",
   "execution_count": 83,
   "metadata": {},
   "outputs": [
    {
     "name": "stdout",
     "output_type": "stream",
     "text": [
      "(147, 2)\n"
     ]
    },
    {
     "data": {
      "text/html": [
       "<div>\n",
       "<style scoped>\n",
       "    .dataframe tbody tr th:only-of-type {\n",
       "        vertical-align: middle;\n",
       "    }\n",
       "\n",
       "    .dataframe tbody tr th {\n",
       "        vertical-align: top;\n",
       "    }\n",
       "\n",
       "    .dataframe thead th {\n",
       "        text-align: right;\n",
       "    }\n",
       "</style>\n",
       "<table border=\"1\" class=\"dataframe\">\n",
       "  <thead>\n",
       "    <tr style=\"text-align: right;\">\n",
       "      <th></th>\n",
       "      <th>#buys</th>\n",
       "      <th>#sells</th>\n",
       "    </tr>\n",
       "    <tr>\n",
       "      <th>Timestamp</th>\n",
       "      <th></th>\n",
       "      <th></th>\n",
       "    </tr>\n",
       "  </thead>\n",
       "  <tbody>\n",
       "    <tr>\n",
       "      <th>2021-06-08</th>\n",
       "      <td>1507</td>\n",
       "      <td>472</td>\n",
       "    </tr>\n",
       "    <tr>\n",
       "      <th>2021-06-09</th>\n",
       "      <td>1043</td>\n",
       "      <td>682</td>\n",
       "    </tr>\n",
       "    <tr>\n",
       "      <th>2021-06-10</th>\n",
       "      <td>563</td>\n",
       "      <td>595</td>\n",
       "    </tr>\n",
       "    <tr>\n",
       "      <th>2021-06-11</th>\n",
       "      <td>505</td>\n",
       "      <td>459</td>\n",
       "    </tr>\n",
       "    <tr>\n",
       "      <th>2021-06-14</th>\n",
       "      <td>256</td>\n",
       "      <td>573</td>\n",
       "    </tr>\n",
       "    <tr>\n",
       "      <th>...</th>\n",
       "      <td>...</td>\n",
       "      <td>...</td>\n",
       "    </tr>\n",
       "    <tr>\n",
       "      <th>2021-12-23</th>\n",
       "      <td>415</td>\n",
       "      <td>166</td>\n",
       "    </tr>\n",
       "    <tr>\n",
       "      <th>2021-12-27</th>\n",
       "      <td>444</td>\n",
       "      <td>32</td>\n",
       "    </tr>\n",
       "    <tr>\n",
       "      <th>2021-12-28</th>\n",
       "      <td>230</td>\n",
       "      <td>170</td>\n",
       "    </tr>\n",
       "    <tr>\n",
       "      <th>2021-12-29</th>\n",
       "      <td>290</td>\n",
       "      <td>229</td>\n",
       "    </tr>\n",
       "    <tr>\n",
       "      <th>2021-12-30</th>\n",
       "      <td>181</td>\n",
       "      <td>224</td>\n",
       "    </tr>\n",
       "  </tbody>\n",
       "</table>\n",
       "<p>147 rows × 2 columns</p>\n",
       "</div>"
      ],
      "text/plain": [
       "            #buys  #sells\n",
       "Timestamp                \n",
       "2021-06-08   1507     472\n",
       "2021-06-09   1043     682\n",
       "2021-06-10    563     595\n",
       "2021-06-11    505     459\n",
       "2021-06-14    256     573\n",
       "...           ...     ...\n",
       "2021-12-23    415     166\n",
       "2021-12-27    444      32\n",
       "2021-12-28    230     170\n",
       "2021-12-29    290     229\n",
       "2021-12-30    181     224\n",
       "\n",
       "[147 rows x 2 columns]"
      ]
     },
     "execution_count": 83,
     "metadata": {},
     "output_type": "execute_result"
    }
   ],
   "source": [
    "\n",
    "columns = [\"#buys\",\"#sells\"]\n",
    "buy_and_sell = pd.merge(buy,sell,on=[\"Timestamp\"])\n",
    "buy_and_sell.columns = columns\n",
    "buy_and_sell = buy_and_sell.loc[(buy_and_sell!=0).any(axis=1)]\n",
    "print(buy_and_sell.shape)\n",
    "buy_and_sell"
   ]
  },
  {
   "cell_type": "code",
   "execution_count": 84,
   "metadata": {},
   "outputs": [
    {
     "data": {
      "text/plain": [
       "<AxesSubplot:xlabel='Timestamp'>"
      ]
     },
     "execution_count": 84,
     "metadata": {},
     "output_type": "execute_result"
    },
    {
     "data": {
      "image/png": "[encoded data removed]",
      "text/plain": [
       "<Figure size 432x288 with 1 Axes>"
      ]
     },
     "metadata": {
      "needs_background": "light"
     },
     "output_type": "display_data"
    }
   ],
   "source": [
    "buy_and_sell.plot()"
   ]
  },
  {
   "cell_type": "code",
   "execution_count": 85,
   "metadata": {},
   "outputs": [
    {
     "data": {
      "text/html": [
       "<div>\n",
       "<style scoped>\n",
       "    .dataframe tbody tr th:only-of-type {\n",
       "        vertical-align: middle;\n",
       "    }\n",
       "\n",
       "    .dataframe tbody tr th {\n",
       "        vertical-align: top;\n",
       "    }\n",
       "\n",
       "    .dataframe thead th {\n",
       "        text-align: right;\n",
       "    }\n",
       "</style>\n",
       "<table border=\"1\" class=\"dataframe\">\n",
       "  <thead>\n",
       "    <tr style=\"text-align: right;\">\n",
       "      <th></th>\n",
       "      <th>#buys</th>\n",
       "      <th>#sells</th>\n",
       "    </tr>\n",
       "  </thead>\n",
       "  <tbody>\n",
       "    <tr>\n",
       "      <th>count</th>\n",
       "      <td>147.000000</td>\n",
       "      <td>147.000000</td>\n",
       "    </tr>\n",
       "    <tr>\n",
       "      <th>mean</th>\n",
       "      <td>508.918367</td>\n",
       "      <td>525.088435</td>\n",
       "    </tr>\n",
       "    <tr>\n",
       "      <th>std</th>\n",
       "      <td>286.921819</td>\n",
       "      <td>256.243247</td>\n",
       "    </tr>\n",
       "    <tr>\n",
       "      <th>min</th>\n",
       "      <td>91.000000</td>\n",
       "      <td>32.000000</td>\n",
       "    </tr>\n",
       "    <tr>\n",
       "      <th>25%</th>\n",
       "      <td>304.500000</td>\n",
       "      <td>355.500000</td>\n",
       "    </tr>\n",
       "    <tr>\n",
       "      <th>50%</th>\n",
       "      <td>472.000000</td>\n",
       "      <td>491.000000</td>\n",
       "    </tr>\n",
       "    <tr>\n",
       "      <th>75%</th>\n",
       "      <td>614.500000</td>\n",
       "      <td>658.000000</td>\n",
       "    </tr>\n",
       "    <tr>\n",
       "      <th>max</th>\n",
       "      <td>2057.000000</td>\n",
       "      <td>1374.000000</td>\n",
       "    </tr>\n",
       "  </tbody>\n",
       "</table>\n",
       "</div>"
      ],
      "text/plain": [
       "             #buys       #sells\n",
       "count   147.000000   147.000000\n",
       "mean    508.918367   525.088435\n",
       "std     286.921819   256.243247\n",
       "min      91.000000    32.000000\n",
       "25%     304.500000   355.500000\n",
       "50%     472.000000   491.000000\n",
       "75%     614.500000   658.000000\n",
       "max    2057.000000  1374.000000"
      ]
     },
     "execution_count": 85,
     "metadata": {},
     "output_type": "execute_result"
    }
   ],
   "source": [
    "buy_and_sell.describe()"
   ]
  },
  {
   "cell_type": "code",
   "execution_count": 86,
   "metadata": {},
   "outputs": [
    {
     "name": "stdout",
     "output_type": "stream",
     "text": [
      "par.model.save_dir\n"
     ]
    },
    {
     "name": "stderr",
     "output_type": "stream",
     "text": [
      "100%|██████████| 147/147 [14:31<00:00,  5.93s/it]\n"
     ]
    },
    {
     "data": {
      "text/plain": [
       "<AxesSubplot:xlabel='Timestamp'>"
      ]
     },
     "execution_count": 86,
     "metadata": {},
     "output_type": "execute_result"
    },
    {
     "data": {
      "image/png": "[encoded data removed]",
      "text/plain": [
       "<Figure size 432x288 with 1 Axes>"
      ]
     },
     "metadata": {
      "needs_background": "light"
     },
     "output_type": "display_data"
    }
   ],
   "source": [
    "from model.deepsurrogate import DeepSurrogate\n",
    "from tqdm import tqdm\n",
    "deepsurrogate = DeepSurrogate()\n",
    "\n",
    "columns_pin = [\"buy\",\"sell\"]\n",
    "buy_and_sell.columns = columns_pin\n",
    "#buy_and_sell = buy_and_sell.head(50)\n",
    "\n",
    "PIN_values = []\n",
    "for i in tqdm(range(buy_and_sell.shape[0])):\n",
    "    pin = deepsurrogate.get_pin(buy_and_sell.iloc[i].values)\n",
    "    #print(pin)\n",
    "    PIN_values.append(pin)\n",
    "\n",
    "buy_and_sell['PIN'] = PIN_values\n",
    "buy_and_sell.to_csv(\"test_results.csv\")\n",
    "buy_and_sell[[\"buy\",\"sell\"]].plot()"
   ]
  },
  {
   "cell_type": "code",
   "execution_count": 87,
   "metadata": {},
   "outputs": [],
   "source": [
    "close_price = final_merged[['Timestamp','midpoint','bid-ask spread']]\n",
    "close_price.index = close_price['Timestamp']\n",
    "close_price = close_price.iloc[:,1:]\n",
    "close_price = close_price.resample('D').mean()\n",
    "close_price = close_price.dropna()\n",
    "graph_merge = pd.merge(close_price,buy_and_sell,left_index=True,right_index=True)\n",
    "graph_merge[\"buy-sell difference\"] = np.abs(graph_merge['buy'] - graph_merge[\"sell\"])"
   ]
  },
  {
   "cell_type": "code",
   "execution_count": 88,
   "metadata": {},
   "outputs": [
    {
     "data": {
      "image/png": "[encoded data removed]",
      "text/plain": [
       "<Figure size 720x360 with 2 Axes>"
      ]
     },
     "metadata": {
      "needs_background": "light"
     },
     "output_type": "display_data"
    },
    {
     "data": {
      "text/plain": [
       "<Figure size 432x288 with 0 Axes>"
      ]
     },
     "metadata": {},
     "output_type": "display_data"
    }
   ],
   "source": [
    "fig,ax = plt.subplots(figsize=(10,5))\n",
    "l1, = ax.plot(graph_merge.index,graph_merge.midpoint)\n",
    "ax.set_ylabel(r\"Close price\")\n",
    "ax2 = ax.twinx()\n",
    "l2, = ax2.plot(graph_merge.index, graph_merge.PIN,color=\"orange\")\n",
    "ax2.set_ylabel(r\"PIN value\")\n",
    "\n",
    "plt.legend([l1, l2],[\"Close price\", \"PIN\"])\n",
    "plt.xlabel(r\"Date\")\n",
    "plt.tight_layout()\n",
    "plt.grid(False)\n",
    "plt.show()\n",
    "plt.savefig(folder_results+\"/close_price_pin.png\")"
   ]
  },
  {
   "cell_type": "code",
   "execution_count": 89,
   "metadata": {},
   "outputs": [
    {
     "data": {
      "image/png": "[encoded data removed]",
      "text/plain": [
       "<Figure size 576x360 with 2 Axes>"
      ]
     },
     "metadata": {
      "needs_background": "light"
     },
     "output_type": "display_data"
    }
   ],
   "source": [
    "fig,ax = plt.subplots(figsize=(8,5))\n",
    "l1, = ax.plot(graph_merge.index,graph_merge[\"bid-ask spread\"])\n",
    "ax.set_ylabel(r\"bid-ask spread\")\n",
    "ax2 = ax.twinx()\n",
    "l2, = ax2.plot(graph_merge.index, graph_merge.PIN,color=\"orange\")\n",
    "ax2.set_ylabel(r\"PIN value\")\n",
    "\n",
    "plt.legend([l1, l2],[\"bid-ask spread\", \"PIN\"])\n",
    "plt.xlabel(r\"Date\")\n",
    "plt.grid(False)\n",
    "plt.tight_layout()\n",
    "plt.savefig(folder_results+\"/bid_ask_spread_pin.png\")\n",
    "plt.show()\n"
   ]
  },
  {
   "cell_type": "code",
   "execution_count": 90,
   "metadata": {},
   "outputs": [
    {
     "data": {
      "image/png": "[encoded data removed]",
      "text/plain": [
       "<Figure size 576x216 with 2 Axes>"
      ]
     },
     "metadata": {
      "needs_background": "light"
     },
     "output_type": "display_data"
    }
   ],
   "source": [
    "fig,ax = plt.subplots(figsize=(8,3))\n",
    "l1, = ax.plot(graph_merge.index,graph_merge[\"buy-sell difference\"])\n",
    "ax.set_ylabel(r\"buy-sell absolute difference\")\n",
    "ax2 = ax.twinx()\n",
    "l2, = ax2.plot(graph_merge.index, graph_merge.PIN,color=\"orange\")\n",
    "ax2.set_ylabel(r\"PIN value\")\n",
    "\n",
    "plt.legend([l1, l2],[\"bid-ask spread\", \"PIN\"])\n",
    "plt.xlabel(r\"Date\")\n",
    "plt.tight_layout()\n",
    "plt.grid(False)\n",
    "plt.show()\n",
    "#plt.savefig(folder_results+\"/bid_ask_spread_pin.png\")"
   ]
  },
  {
   "cell_type": "code",
   "execution_count": 101,
   "metadata": {},
   "outputs": [
    {
     "name": "stderr",
     "output_type": "stream",
     "text": [
      "  1%|          | 1/147 [00:08<21:02,  8.65s/it]"
     ]
    },
    {
     "name": "stdout",
     "output_type": "stream",
     "text": [
      "5.2298867461708835e-06\n"
     ]
    },
    {
     "name": "stderr",
     "output_type": "stream",
     "text": [
      "  1%|▏         | 2/147 [00:15<18:45,  7.76s/it]"
     ]
    },
    {
     "name": "stdout",
     "output_type": "stream",
     "text": [
      "2.092749243579844e-06\n"
     ]
    },
    {
     "name": "stderr",
     "output_type": "stream",
     "text": [
      "  2%|▏         | 3/147 [00:26<21:29,  8.96s/it]"
     ]
    },
    {
     "name": "stdout",
     "output_type": "stream",
     "text": [
      "2.7620699815356567e-07\n"
     ]
    },
    {
     "name": "stderr",
     "output_type": "stream",
     "text": [
      "  3%|▎         | 4/147 [01:21<1:04:39, 27.13s/it]"
     ]
    },
    {
     "name": "stdout",
     "output_type": "stream",
     "text": [
      "4.770814930053464e-07\n"
     ]
    },
    {
     "name": "stderr",
     "output_type": "stream",
     "text": [
      "  3%|▎         | 5/147 [01:59<1:13:55, 31.24s/it]"
     ]
    },
    {
     "name": "stdout",
     "output_type": "stream",
     "text": [
      "3.823869366037364e-06\n"
     ]
    },
    {
     "name": "stderr",
     "output_type": "stream",
     "text": [
      "  4%|▍         | 6/147 [02:05<53:08, 22.61s/it]  "
     ]
    },
    {
     "name": "stdout",
     "output_type": "stream",
     "text": [
      "4.5977769067195006e-07\n"
     ]
    },
    {
     "name": "stderr",
     "output_type": "stream",
     "text": [
      "  5%|▍         | 7/147 [02:17<44:23, 19.03s/it]"
     ]
    },
    {
     "name": "stdout",
     "output_type": "stream",
     "text": [
      "3.4384277619240724e-07\n"
     ]
    },
    {
     "name": "stderr",
     "output_type": "stream",
     "text": [
      "  5%|▌         | 8/147 [02:23<35:00, 15.11s/it]"
     ]
    },
    {
     "name": "stdout",
     "output_type": "stream",
     "text": [
      "5.926482448482615e-06\n"
     ]
    },
    {
     "name": "stderr",
     "output_type": "stream",
     "text": [
      "  6%|▌         | 9/147 [02:30<28:23, 12.34s/it]"
     ]
    },
    {
     "name": "stdout",
     "output_type": "stream",
     "text": [
      "2.8711861356576067e-06\n"
     ]
    },
    {
     "name": "stderr",
     "output_type": "stream",
     "text": [
      "  7%|▋         | 10/147 [02:36<23:47, 10.42s/it]"
     ]
    },
    {
     "name": "stdout",
     "output_type": "stream",
     "text": [
      "4.57941828116862e-06\n"
     ]
    },
    {
     "name": "stderr",
     "output_type": "stream",
     "text": [
      "  7%|▋         | 11/147 [02:42<20:36,  9.09s/it]"
     ]
    },
    {
     "name": "stdout",
     "output_type": "stream",
     "text": [
      "3.7563308508155447e-06\n"
     ]
    },
    {
     "name": "stderr",
     "output_type": "stream",
     "text": [
      "  8%|▊         | 12/147 [02:48<18:37,  8.28s/it]"
     ]
    },
    {
     "name": "stdout",
     "output_type": "stream",
     "text": [
      "1.5774215305618426e-06\n"
     ]
    },
    {
     "name": "stderr",
     "output_type": "stream",
     "text": [
      "  8%|▊         | 12/147 [03:43<41:56, 18.64s/it]\n"
     ]
    },
    {
     "ename": "KeyboardInterrupt",
     "evalue": "",
     "output_type": "error",
     "traceback": [
      "\u001b[0;31m---------------------------------------------------------------------------\u001b[0m",
      "\u001b[0;31mKeyboardInterrupt\u001b[0m                         Traceback (most recent call last)",
      "\u001b[1;32m/Users/guillaume/MyProjects/master_thesis/pin-code/lee_and_ready_algorithm.ipynb Cell 24'\u001b[0m in \u001b[0;36m<module>\u001b[0;34m\u001b[0m\n\u001b[1;32m      <a href='vscode-notebook-cell:/Users/guillaume/MyProjects/master_thesis/pin-code/lee_and_ready_algorithm.ipynb#ch0000037?line=3'>4</a>\u001b[0m value \u001b[39m=\u001b[39m buy_and_sell\u001b[39m.\u001b[39miloc[i]\n\u001b[1;32m      <a href='vscode-notebook-cell:/Users/guillaume/MyProjects/master_thesis/pin-code/lee_and_ready_algorithm.ipynb#ch0000037?line=4'>5</a>\u001b[0m \u001b[39m#print(value[\"buy\"][:])\u001b[39;00m\n\u001b[0;32m----> <a href='vscode-notebook-cell:/Users/guillaume/MyProjects/master_thesis/pin-code/lee_and_ready_algorithm.ipynb#ch0000037?line=5'>6</a>\u001b[0m res \u001b[39m=\u001b[39m fit(pd\u001b[39m.\u001b[39;49mSeries(value[\u001b[39m\"\u001b[39;49m\u001b[39mbuy\u001b[39;49m\u001b[39m\"\u001b[39;49m]), pd\u001b[39m.\u001b[39;49mSeries(value[\u001b[39m\"\u001b[39;49m\u001b[39msell\u001b[39;49m\u001b[39m\"\u001b[39;49m]),\u001b[39m1\u001b[39;49m)\n\u001b[1;32m      <a href='vscode-notebook-cell:/Users/guillaume/MyProjects/master_thesis/pin-code/lee_and_ready_algorithm.ipynb#ch0000037?line=6'>7</a>\u001b[0m PIN \u001b[39m=\u001b[39m (res[\u001b[39m'\u001b[39m\u001b[39ma\u001b[39m\u001b[39m'\u001b[39m]\u001b[39m*\u001b[39mres[\u001b[39m'\u001b[39m\u001b[39mmu\u001b[39m\u001b[39m'\u001b[39m])\u001b[39m/\u001b[39m((res[\u001b[39m'\u001b[39m\u001b[39ma\u001b[39m\u001b[39m'\u001b[39m]\u001b[39m*\u001b[39mres[\u001b[39m'\u001b[39m\u001b[39mmu\u001b[39m\u001b[39m'\u001b[39m])\u001b[39m+\u001b[39mres[\u001b[39m'\u001b[39m\u001b[39meb\u001b[39m\u001b[39m'\u001b[39m]\u001b[39m+\u001b[39mres[\u001b[39m'\u001b[39m\u001b[39mes\u001b[39m\u001b[39m'\u001b[39m])\n\u001b[1;32m      <a href='vscode-notebook-cell:/Users/guillaume/MyProjects/master_thesis/pin-code/lee_and_ready_algorithm.ipynb#ch0000037?line=7'>8</a>\u001b[0m \u001b[39mprint\u001b[39m(PIN)\n",
      "File \u001b[0;32m~/MyProjects/master_thesis/pin-code/pin_model_simulation.py:149\u001b[0m, in \u001b[0;36mfit\u001b[0;34m(n_buys, n_sells, starts, maxiter, a, d, eb, es, u, se, **kwargs)\u001b[0m\n\u001b[1;32m    <a href='file:///Users/guillaume/MyProjects/master_thesis/pin-code/pin_model_simulation.py?line=145'>146</a>\u001b[0m     eb0,es0,u0 \u001b[39m=\u001b[39m np\u001b[39m.\u001b[39mrandom\u001b[39m.\u001b[39mpoisson([eb,es,u])\n\u001b[1;32m    <a href='file:///Users/guillaume/MyProjects/master_thesis/pin-code/pin_model_simulation.py?line=147'>148</a>\u001b[0m \u001b[39m# do actual optimization here\u001b[39;00m\n\u001b[0;32m--> <a href='file:///Users/guillaume/MyProjects/master_thesis/pin-code/pin_model_simulation.py?line=148'>149</a>\u001b[0m res \u001b[39m=\u001b[39m op\u001b[39m.\u001b[39;49mminimize(nll, [a0,d0,eb0,es0,u0], method\u001b[39m=\u001b[39;49m\u001b[39mNone\u001b[39;49;00m,\n\u001b[1;32m    <a href='file:///Users/guillaume/MyProjects/master_thesis/pin-code/pin_model_simulation.py?line=149'>150</a>\u001b[0m                   bounds\u001b[39m=\u001b[39;49mbounds, args\u001b[39m=\u001b[39;49m(n_buys,n_sells))\n\u001b[1;32m    <a href='file:///Users/guillaume/MyProjects/master_thesis/pin-code/pin_model_simulation.py?line=150'>151</a>\u001b[0m rc \u001b[39m=\u001b[39m res[\u001b[39m'\u001b[39m\u001b[39mstatus\u001b[39m\u001b[39m'\u001b[39m]\n\u001b[1;32m    <a href='file:///Users/guillaume/MyProjects/master_thesis/pin-code/pin_model_simulation.py?line=151'>152</a>\u001b[0m \u001b[39m# see if the optimization step violated any constraints\u001b[39;00m\n",
      "File \u001b[0;32m~/MyProjects/master_thesis/pin-code/venv/lib/python3.8/site-packages/scipy/optimize/_minimize.py:623\u001b[0m, in \u001b[0;36mminimize\u001b[0;34m(fun, x0, args, method, jac, hess, hessp, bounds, constraints, tol, callback, options)\u001b[0m\n\u001b[1;32m    <a href='file:///Users/guillaume/MyProjects/master_thesis/pin-code/venv/lib/python3.8/site-packages/scipy/optimize/_minimize.py?line=619'>620</a>\u001b[0m     \u001b[39mreturn\u001b[39;00m _minimize_newtoncg(fun, x0, args, jac, hess, hessp, callback,\n\u001b[1;32m    <a href='file:///Users/guillaume/MyProjects/master_thesis/pin-code/venv/lib/python3.8/site-packages/scipy/optimize/_minimize.py?line=620'>621</a>\u001b[0m                               \u001b[39m*\u001b[39m\u001b[39m*\u001b[39moptions)\n\u001b[1;32m    <a href='file:///Users/guillaume/MyProjects/master_thesis/pin-code/venv/lib/python3.8/site-packages/scipy/optimize/_minimize.py?line=621'>622</a>\u001b[0m \u001b[39melif\u001b[39;00m meth \u001b[39m==\u001b[39m \u001b[39m'\u001b[39m\u001b[39ml-bfgs-b\u001b[39m\u001b[39m'\u001b[39m:\n\u001b[0;32m--> <a href='file:///Users/guillaume/MyProjects/master_thesis/pin-code/venv/lib/python3.8/site-packages/scipy/optimize/_minimize.py?line=622'>623</a>\u001b[0m     \u001b[39mreturn\u001b[39;00m _minimize_lbfgsb(fun, x0, args, jac, bounds,\n\u001b[1;32m    <a href='file:///Users/guillaume/MyProjects/master_thesis/pin-code/venv/lib/python3.8/site-packages/scipy/optimize/_minimize.py?line=623'>624</a>\u001b[0m                             callback\u001b[39m=\u001b[39;49mcallback, \u001b[39m*\u001b[39;49m\u001b[39m*\u001b[39;49moptions)\n\u001b[1;32m    <a href='file:///Users/guillaume/MyProjects/master_thesis/pin-code/venv/lib/python3.8/site-packages/scipy/optimize/_minimize.py?line=624'>625</a>\u001b[0m \u001b[39melif\u001b[39;00m meth \u001b[39m==\u001b[39m \u001b[39m'\u001b[39m\u001b[39mtnc\u001b[39m\u001b[39m'\u001b[39m:\n\u001b[1;32m    <a href='file:///Users/guillaume/MyProjects/master_thesis/pin-code/venv/lib/python3.8/site-packages/scipy/optimize/_minimize.py?line=625'>626</a>\u001b[0m     \u001b[39mreturn\u001b[39;00m _minimize_tnc(fun, x0, args, jac, bounds, callback\u001b[39m=\u001b[39mcallback,\n\u001b[1;32m    <a href='file:///Users/guillaume/MyProjects/master_thesis/pin-code/venv/lib/python3.8/site-packages/scipy/optimize/_minimize.py?line=626'>627</a>\u001b[0m                          \u001b[39m*\u001b[39m\u001b[39m*\u001b[39moptions)\n",
      "File \u001b[0;32m~/MyProjects/master_thesis/pin-code/venv/lib/python3.8/site-packages/scipy/optimize/lbfgsb.py:360\u001b[0m, in \u001b[0;36m_minimize_lbfgsb\u001b[0;34m(fun, x0, args, jac, bounds, disp, maxcor, ftol, gtol, eps, maxfun, maxiter, iprint, callback, maxls, finite_diff_rel_step, **unknown_options)\u001b[0m\n\u001b[1;32m    <a href='file:///Users/guillaume/MyProjects/master_thesis/pin-code/venv/lib/python3.8/site-packages/scipy/optimize/lbfgsb.py?line=353'>354</a>\u001b[0m task_str \u001b[39m=\u001b[39m task\u001b[39m.\u001b[39mtobytes()\n\u001b[1;32m    <a href='file:///Users/guillaume/MyProjects/master_thesis/pin-code/venv/lib/python3.8/site-packages/scipy/optimize/lbfgsb.py?line=354'>355</a>\u001b[0m \u001b[39mif\u001b[39;00m task_str\u001b[39m.\u001b[39mstartswith(\u001b[39mb\u001b[39m\u001b[39m'\u001b[39m\u001b[39mFG\u001b[39m\u001b[39m'\u001b[39m):\n\u001b[1;32m    <a href='file:///Users/guillaume/MyProjects/master_thesis/pin-code/venv/lib/python3.8/site-packages/scipy/optimize/lbfgsb.py?line=355'>356</a>\u001b[0m     \u001b[39m# The minimization routine wants f and g at the current x.\u001b[39;00m\n\u001b[1;32m    <a href='file:///Users/guillaume/MyProjects/master_thesis/pin-code/venv/lib/python3.8/site-packages/scipy/optimize/lbfgsb.py?line=356'>357</a>\u001b[0m     \u001b[39m# Note that interruptions due to maxfun are postponed\u001b[39;00m\n\u001b[1;32m    <a href='file:///Users/guillaume/MyProjects/master_thesis/pin-code/venv/lib/python3.8/site-packages/scipy/optimize/lbfgsb.py?line=357'>358</a>\u001b[0m     \u001b[39m# until the completion of the current minimization iteration.\u001b[39;00m\n\u001b[1;32m    <a href='file:///Users/guillaume/MyProjects/master_thesis/pin-code/venv/lib/python3.8/site-packages/scipy/optimize/lbfgsb.py?line=358'>359</a>\u001b[0m     \u001b[39m# Overwrite f and g:\u001b[39;00m\n\u001b[0;32m--> <a href='file:///Users/guillaume/MyProjects/master_thesis/pin-code/venv/lib/python3.8/site-packages/scipy/optimize/lbfgsb.py?line=359'>360</a>\u001b[0m     f, g \u001b[39m=\u001b[39m func_and_grad(x)\n\u001b[1;32m    <a href='file:///Users/guillaume/MyProjects/master_thesis/pin-code/venv/lib/python3.8/site-packages/scipy/optimize/lbfgsb.py?line=360'>361</a>\u001b[0m \u001b[39melif\u001b[39;00m task_str\u001b[39m.\u001b[39mstartswith(\u001b[39mb\u001b[39m\u001b[39m'\u001b[39m\u001b[39mNEW_X\u001b[39m\u001b[39m'\u001b[39m):\n\u001b[1;32m    <a href='file:///Users/guillaume/MyProjects/master_thesis/pin-code/venv/lib/python3.8/site-packages/scipy/optimize/lbfgsb.py?line=361'>362</a>\u001b[0m     \u001b[39m# new iteration\u001b[39;00m\n\u001b[1;32m    <a href='file:///Users/guillaume/MyProjects/master_thesis/pin-code/venv/lib/python3.8/site-packages/scipy/optimize/lbfgsb.py?line=362'>363</a>\u001b[0m     n_iterations \u001b[39m+\u001b[39m\u001b[39m=\u001b[39m \u001b[39m1\u001b[39m\n",
      "File \u001b[0;32m~/MyProjects/master_thesis/pin-code/venv/lib/python3.8/site-packages/scipy/optimize/_differentiable_functions.py:268\u001b[0m, in \u001b[0;36mScalarFunction.fun_and_grad\u001b[0;34m(self, x)\u001b[0m\n\u001b[1;32m    <a href='file:///Users/guillaume/MyProjects/master_thesis/pin-code/venv/lib/python3.8/site-packages/scipy/optimize/_differentiable_functions.py?line=265'>266</a>\u001b[0m     \u001b[39mself\u001b[39m\u001b[39m.\u001b[39m_update_x_impl(x)\n\u001b[1;32m    <a href='file:///Users/guillaume/MyProjects/master_thesis/pin-code/venv/lib/python3.8/site-packages/scipy/optimize/_differentiable_functions.py?line=266'>267</a>\u001b[0m \u001b[39mself\u001b[39m\u001b[39m.\u001b[39m_update_fun()\n\u001b[0;32m--> <a href='file:///Users/guillaume/MyProjects/master_thesis/pin-code/venv/lib/python3.8/site-packages/scipy/optimize/_differentiable_functions.py?line=267'>268</a>\u001b[0m \u001b[39mself\u001b[39;49m\u001b[39m.\u001b[39;49m_update_grad()\n\u001b[1;32m    <a href='file:///Users/guillaume/MyProjects/master_thesis/pin-code/venv/lib/python3.8/site-packages/scipy/optimize/_differentiable_functions.py?line=268'>269</a>\u001b[0m \u001b[39mreturn\u001b[39;00m \u001b[39mself\u001b[39m\u001b[39m.\u001b[39mf, \u001b[39mself\u001b[39m\u001b[39m.\u001b[39mg\n",
      "File \u001b[0;32m~/MyProjects/master_thesis/pin-code/venv/lib/python3.8/site-packages/scipy/optimize/_differentiable_functions.py:238\u001b[0m, in \u001b[0;36mScalarFunction._update_grad\u001b[0;34m(self)\u001b[0m\n\u001b[1;32m    <a href='file:///Users/guillaume/MyProjects/master_thesis/pin-code/venv/lib/python3.8/site-packages/scipy/optimize/_differentiable_functions.py?line=235'>236</a>\u001b[0m \u001b[39mdef\u001b[39;00m \u001b[39m_update_grad\u001b[39m(\u001b[39mself\u001b[39m):\n\u001b[1;32m    <a href='file:///Users/guillaume/MyProjects/master_thesis/pin-code/venv/lib/python3.8/site-packages/scipy/optimize/_differentiable_functions.py?line=236'>237</a>\u001b[0m     \u001b[39mif\u001b[39;00m \u001b[39mnot\u001b[39;00m \u001b[39mself\u001b[39m\u001b[39m.\u001b[39mg_updated:\n\u001b[0;32m--> <a href='file:///Users/guillaume/MyProjects/master_thesis/pin-code/venv/lib/python3.8/site-packages/scipy/optimize/_differentiable_functions.py?line=237'>238</a>\u001b[0m         \u001b[39mself\u001b[39;49m\u001b[39m.\u001b[39;49m_update_grad_impl()\n\u001b[1;32m    <a href='file:///Users/guillaume/MyProjects/master_thesis/pin-code/venv/lib/python3.8/site-packages/scipy/optimize/_differentiable_functions.py?line=238'>239</a>\u001b[0m         \u001b[39mself\u001b[39m\u001b[39m.\u001b[39mg_updated \u001b[39m=\u001b[39m \u001b[39mTrue\u001b[39;00m\n",
      "File \u001b[0;32m~/MyProjects/master_thesis/pin-code/venv/lib/python3.8/site-packages/scipy/optimize/_differentiable_functions.py:155\u001b[0m, in \u001b[0;36mScalarFunction.__init__.<locals>.update_grad\u001b[0;34m()\u001b[0m\n\u001b[1;32m    <a href='file:///Users/guillaume/MyProjects/master_thesis/pin-code/venv/lib/python3.8/site-packages/scipy/optimize/_differentiable_functions.py?line=152'>153</a>\u001b[0m \u001b[39mself\u001b[39m\u001b[39m.\u001b[39m_update_fun()\n\u001b[1;32m    <a href='file:///Users/guillaume/MyProjects/master_thesis/pin-code/venv/lib/python3.8/site-packages/scipy/optimize/_differentiable_functions.py?line=153'>154</a>\u001b[0m \u001b[39mself\u001b[39m\u001b[39m.\u001b[39mngev \u001b[39m+\u001b[39m\u001b[39m=\u001b[39m \u001b[39m1\u001b[39m\n\u001b[0;32m--> <a href='file:///Users/guillaume/MyProjects/master_thesis/pin-code/venv/lib/python3.8/site-packages/scipy/optimize/_differentiable_functions.py?line=154'>155</a>\u001b[0m \u001b[39mself\u001b[39m\u001b[39m.\u001b[39mg \u001b[39m=\u001b[39m approx_derivative(fun_wrapped, \u001b[39mself\u001b[39;49m\u001b[39m.\u001b[39;49mx, f0\u001b[39m=\u001b[39;49m\u001b[39mself\u001b[39;49m\u001b[39m.\u001b[39;49mf,\n\u001b[1;32m    <a href='file:///Users/guillaume/MyProjects/master_thesis/pin-code/venv/lib/python3.8/site-packages/scipy/optimize/_differentiable_functions.py?line=155'>156</a>\u001b[0m                            \u001b[39m*\u001b[39;49m\u001b[39m*\u001b[39;49mfinite_diff_options)\n",
      "File \u001b[0;32m~/MyProjects/master_thesis/pin-code/venv/lib/python3.8/site-packages/scipy/optimize/_numdiff.py:486\u001b[0m, in \u001b[0;36mapprox_derivative\u001b[0;34m(fun, x0, method, rel_step, abs_step, f0, bounds, sparsity, as_linear_operator, args, kwargs)\u001b[0m\n\u001b[1;32m    <a href='file:///Users/guillaume/MyProjects/master_thesis/pin-code/venv/lib/python3.8/site-packages/scipy/optimize/_numdiff.py?line=482'>483</a>\u001b[0m     use_one_sided \u001b[39m=\u001b[39m \u001b[39mFalse\u001b[39;00m\n\u001b[1;32m    <a href='file:///Users/guillaume/MyProjects/master_thesis/pin-code/venv/lib/python3.8/site-packages/scipy/optimize/_numdiff.py?line=484'>485</a>\u001b[0m \u001b[39mif\u001b[39;00m sparsity \u001b[39mis\u001b[39;00m \u001b[39mNone\u001b[39;00m:\n\u001b[0;32m--> <a href='file:///Users/guillaume/MyProjects/master_thesis/pin-code/venv/lib/python3.8/site-packages/scipy/optimize/_numdiff.py?line=485'>486</a>\u001b[0m     \u001b[39mreturn\u001b[39;00m _dense_difference(fun_wrapped, x0, f0, h,\n\u001b[1;32m    <a href='file:///Users/guillaume/MyProjects/master_thesis/pin-code/venv/lib/python3.8/site-packages/scipy/optimize/_numdiff.py?line=486'>487</a>\u001b[0m                              use_one_sided, method)\n\u001b[1;32m    <a href='file:///Users/guillaume/MyProjects/master_thesis/pin-code/venv/lib/python3.8/site-packages/scipy/optimize/_numdiff.py?line=487'>488</a>\u001b[0m \u001b[39melse\u001b[39;00m:\n\u001b[1;32m    <a href='file:///Users/guillaume/MyProjects/master_thesis/pin-code/venv/lib/python3.8/site-packages/scipy/optimize/_numdiff.py?line=488'>489</a>\u001b[0m     \u001b[39mif\u001b[39;00m \u001b[39mnot\u001b[39;00m issparse(sparsity) \u001b[39mand\u001b[39;00m \u001b[39mlen\u001b[39m(sparsity) \u001b[39m==\u001b[39m \u001b[39m2\u001b[39m:\n",
      "File \u001b[0;32m~/MyProjects/master_thesis/pin-code/venv/lib/python3.8/site-packages/scipy/optimize/_numdiff.py:557\u001b[0m, in \u001b[0;36m_dense_difference\u001b[0;34m(fun, x0, f0, h, use_one_sided, method)\u001b[0m\n\u001b[1;32m    <a href='file:///Users/guillaume/MyProjects/master_thesis/pin-code/venv/lib/python3.8/site-packages/scipy/optimize/_numdiff.py?line=554'>555</a>\u001b[0m     x \u001b[39m=\u001b[39m x0 \u001b[39m+\u001b[39m h_vecs[i]\n\u001b[1;32m    <a href='file:///Users/guillaume/MyProjects/master_thesis/pin-code/venv/lib/python3.8/site-packages/scipy/optimize/_numdiff.py?line=555'>556</a>\u001b[0m     dx \u001b[39m=\u001b[39m x[i] \u001b[39m-\u001b[39m x0[i]  \u001b[39m# Recompute dx as exactly representable number.\u001b[39;00m\n\u001b[0;32m--> <a href='file:///Users/guillaume/MyProjects/master_thesis/pin-code/venv/lib/python3.8/site-packages/scipy/optimize/_numdiff.py?line=556'>557</a>\u001b[0m     df \u001b[39m=\u001b[39m fun(x) \u001b[39m-\u001b[39m f0\n\u001b[1;32m    <a href='file:///Users/guillaume/MyProjects/master_thesis/pin-code/venv/lib/python3.8/site-packages/scipy/optimize/_numdiff.py?line=557'>558</a>\u001b[0m \u001b[39melif\u001b[39;00m method \u001b[39m==\u001b[39m \u001b[39m'\u001b[39m\u001b[39m3-point\u001b[39m\u001b[39m'\u001b[39m \u001b[39mand\u001b[39;00m use_one_sided[i]:\n\u001b[1;32m    <a href='file:///Users/guillaume/MyProjects/master_thesis/pin-code/venv/lib/python3.8/site-packages/scipy/optimize/_numdiff.py?line=558'>559</a>\u001b[0m     x1 \u001b[39m=\u001b[39m x0 \u001b[39m+\u001b[39m h_vecs[i]\n",
      "File \u001b[0;32m~/MyProjects/master_thesis/pin-code/venv/lib/python3.8/site-packages/scipy/optimize/_numdiff.py:437\u001b[0m, in \u001b[0;36mapprox_derivative.<locals>.fun_wrapped\u001b[0;34m(x)\u001b[0m\n\u001b[1;32m    <a href='file:///Users/guillaume/MyProjects/master_thesis/pin-code/venv/lib/python3.8/site-packages/scipy/optimize/_numdiff.py?line=435'>436</a>\u001b[0m \u001b[39mdef\u001b[39;00m \u001b[39mfun_wrapped\u001b[39m(x):\n\u001b[0;32m--> <a href='file:///Users/guillaume/MyProjects/master_thesis/pin-code/venv/lib/python3.8/site-packages/scipy/optimize/_numdiff.py?line=436'>437</a>\u001b[0m     f \u001b[39m=\u001b[39m np\u001b[39m.\u001b[39matleast_1d(fun(x, \u001b[39m*\u001b[39;49margs, \u001b[39m*\u001b[39;49m\u001b[39m*\u001b[39;49mkwargs))\n\u001b[1;32m    <a href='file:///Users/guillaume/MyProjects/master_thesis/pin-code/venv/lib/python3.8/site-packages/scipy/optimize/_numdiff.py?line=437'>438</a>\u001b[0m     \u001b[39mif\u001b[39;00m f\u001b[39m.\u001b[39mndim \u001b[39m>\u001b[39m \u001b[39m1\u001b[39m:\n\u001b[1;32m    <a href='file:///Users/guillaume/MyProjects/master_thesis/pin-code/venv/lib/python3.8/site-packages/scipy/optimize/_numdiff.py?line=438'>439</a>\u001b[0m         \u001b[39mraise\u001b[39;00m \u001b[39mRuntimeError\u001b[39;00m(\u001b[39m\"\u001b[39m\u001b[39m`fun` return value has \u001b[39m\u001b[39m\"\u001b[39m\n\u001b[1;32m    <a href='file:///Users/guillaume/MyProjects/master_thesis/pin-code/venv/lib/python3.8/site-packages/scipy/optimize/_numdiff.py?line=439'>440</a>\u001b[0m                            \u001b[39m\"\u001b[39m\u001b[39mmore than 1 dimension.\u001b[39m\u001b[39m\"\u001b[39m)\n",
      "File \u001b[0;32m~/MyProjects/master_thesis/pin-code/venv/lib/python3.8/site-packages/scipy/optimize/_differentiable_functions.py:134\u001b[0m, in \u001b[0;36mScalarFunction.__init__.<locals>.fun_wrapped\u001b[0;34m(x)\u001b[0m\n\u001b[1;32m    <a href='file:///Users/guillaume/MyProjects/master_thesis/pin-code/venv/lib/python3.8/site-packages/scipy/optimize/_differentiable_functions.py?line=129'>130</a>\u001b[0m \u001b[39mself\u001b[39m\u001b[39m.\u001b[39mnfev \u001b[39m+\u001b[39m\u001b[39m=\u001b[39m \u001b[39m1\u001b[39m\n\u001b[1;32m    <a href='file:///Users/guillaume/MyProjects/master_thesis/pin-code/venv/lib/python3.8/site-packages/scipy/optimize/_differentiable_functions.py?line=130'>131</a>\u001b[0m \u001b[39m# Send a copy because the user may overwrite it.\u001b[39;00m\n\u001b[1;32m    <a href='file:///Users/guillaume/MyProjects/master_thesis/pin-code/venv/lib/python3.8/site-packages/scipy/optimize/_differentiable_functions.py?line=131'>132</a>\u001b[0m \u001b[39m# Overwriting results in undefined behaviour because\u001b[39;00m\n\u001b[1;32m    <a href='file:///Users/guillaume/MyProjects/master_thesis/pin-code/venv/lib/python3.8/site-packages/scipy/optimize/_differentiable_functions.py?line=132'>133</a>\u001b[0m \u001b[39m# fun(self.x) will change self.x, with the two no longer linked.\u001b[39;00m\n\u001b[0;32m--> <a href='file:///Users/guillaume/MyProjects/master_thesis/pin-code/venv/lib/python3.8/site-packages/scipy/optimize/_differentiable_functions.py?line=133'>134</a>\u001b[0m \u001b[39mreturn\u001b[39;00m fun(np\u001b[39m.\u001b[39;49mcopy(x), \u001b[39m*\u001b[39;49margs)\n",
      "File \u001b[0;32m~/MyProjects/master_thesis/pin-code/pin_model_simulation.py:124\u001b[0m, in \u001b[0;36mfit.<locals>.<lambda>\u001b[0;34m(*args)\u001b[0m\n\u001b[1;32m    <a href='file:///Users/guillaume/MyProjects/master_thesis/pin-code/pin_model_simulation.py?line=102'>103</a>\u001b[0m \u001b[39mdef\u001b[39;00m \u001b[39mfit\u001b[39m(n_buys, n_sells, starts\u001b[39m=\u001b[39m\u001b[39m10\u001b[39m, maxiter\u001b[39m=\u001b[39m\u001b[39m100\u001b[39m, \n\u001b[1;32m    <a href='file:///Users/guillaume/MyProjects/master_thesis/pin-code/pin_model_simulation.py?line=103'>104</a>\u001b[0m         a\u001b[39m=\u001b[39m\u001b[39mNone\u001b[39;00m, d\u001b[39m=\u001b[39m\u001b[39mNone\u001b[39;00m, eb\u001b[39m=\u001b[39m\u001b[39mNone\u001b[39;00m, es\u001b[39m=\u001b[39m\u001b[39mNone\u001b[39;00m, u\u001b[39m=\u001b[39m\u001b[39mNone\u001b[39;00m,\n\u001b[1;32m    <a href='file:///Users/guillaume/MyProjects/master_thesis/pin-code/pin_model_simulation.py?line=104'>105</a>\u001b[0m         se\u001b[39m=\u001b[39m\u001b[39mNone\u001b[39;00m, \u001b[39m*\u001b[39m\u001b[39m*\u001b[39mkwargs):\n\u001b[1;32m    <a href='file:///Users/guillaume/MyProjects/master_thesis/pin-code/pin_model_simulation.py?line=106'>107</a>\u001b[0m     \u001b[39m\"\"\"_summary_\u001b[39;00m\n\u001b[1;32m    <a href='file:///Users/guillaume/MyProjects/master_thesis/pin-code/pin_model_simulation.py?line=107'>108</a>\u001b[0m \n\u001b[1;32m    <a href='file:///Users/guillaume/MyProjects/master_thesis/pin-code/pin_model_simulation.py?line=108'>109</a>\u001b[0m \u001b[39m    Args:\u001b[39;00m\n\u001b[0;32m   (...)\u001b[0m\n\u001b[1;32m    <a href='file:///Users/guillaume/MyProjects/master_thesis/pin-code/pin_model_simulation.py?line=121'>122</a>\u001b[0m \u001b[39m        _type_: _description_\u001b[39;00m\n\u001b[1;32m    <a href='file:///Users/guillaume/MyProjects/master_thesis/pin-code/pin_model_simulation.py?line=122'>123</a>\u001b[0m \u001b[39m    \"\"\"\u001b[39;00m\n\u001b[0;32m--> <a href='file:///Users/guillaume/MyProjects/master_thesis/pin-code/pin_model_simulation.py?line=123'>124</a>\u001b[0m     nll \u001b[39m=\u001b[39m \u001b[39mlambda\u001b[39;00m \u001b[39m*\u001b[39margs: \u001b[39m-\u001b[39mloglik(\u001b[39m*\u001b[39;49margs) \u001b[39m# define the negative log likelihood that we will minimize\u001b[39;00m\n\u001b[1;32m    <a href='file:///Users/guillaume/MyProjects/master_thesis/pin-code/pin_model_simulation.py?line=124'>125</a>\u001b[0m     bounds \u001b[39m=\u001b[39m [(\u001b[39m0.00001\u001b[39m,\u001b[39m0.99999\u001b[39m)]\u001b[39m*\u001b[39m\u001b[39m2\u001b[39m\u001b[39m+\u001b[39m[(\u001b[39m0.00001\u001b[39m,np\u001b[39m.\u001b[39minf)]\u001b[39m*\u001b[39m\u001b[39m3\u001b[39m \u001b[39m# we will do a constrained optimization\u001b[39;00m\n\u001b[1;32m    <a href='file:///Users/guillaume/MyProjects/master_thesis/pin-code/pin_model_simulation.py?line=125'>126</a>\u001b[0m     ranges \u001b[39m=\u001b[39m [(\u001b[39m0.00001\u001b[39m,\u001b[39m0.99999\u001b[39m)]\u001b[39m*\u001b[39m\u001b[39m2\u001b[39m \u001b[39m# we will define the min-max range for our random guesses\u001b[39;00m\n",
      "File \u001b[0;32m~/MyProjects/master_thesis/pin-code/pin_model_simulation.py:99\u001b[0m, in \u001b[0;36mloglik\u001b[0;34m(theta, n_buys, n_sells)\u001b[0m\n\u001b[1;32m     <a href='file:///Users/guillaume/MyProjects/master_thesis/pin-code/pin_model_simulation.py?line=96'>97</a>\u001b[0m \u001b[39mdef\u001b[39;00m \u001b[39mloglik\u001b[39m(theta, n_buys, n_sells):\n\u001b[1;32m     <a href='file:///Users/guillaume/MyProjects/master_thesis/pin-code/pin_model_simulation.py?line=97'>98</a>\u001b[0m     a,d,eb,es,u \u001b[39m=\u001b[39m theta\n\u001b[0;32m---> <a href='file:///Users/guillaume/MyProjects/master_thesis/pin-code/pin_model_simulation.py?line=98'>99</a>\u001b[0m     ll \u001b[39m=\u001b[39m _ll(a, d, eb, es, u, n_buys, n_sells)\n\u001b[1;32m    <a href='file:///Users/guillaume/MyProjects/master_thesis/pin-code/pin_model_simulation.py?line=100'>101</a>\u001b[0m     \u001b[39mreturn\u001b[39;00m \u001b[39msum\u001b[39m(logsumexp(ll,axis\u001b[39m=\u001b[39m\u001b[39m0\u001b[39m))\n",
      "File \u001b[0;32m~/MyProjects/master_thesis/pin-code/pin_model_simulation.py:76\u001b[0m, in \u001b[0;36m_ll\u001b[0;34m(a, d, eb, es, u, n_buys, n_sells)\u001b[0m\n\u001b[1;32m     <a href='file:///Users/guillaume/MyProjects/master_thesis/pin-code/pin_model_simulation.py?line=72'>73</a>\u001b[0m \u001b[39mdef\u001b[39;00m \u001b[39m_ll\u001b[39m(a, d, eb, es, u, n_buys, n_sells):\n\u001b[1;32m     <a href='file:///Users/guillaume/MyProjects/master_thesis/pin-code/pin_model_simulation.py?line=73'>74</a>\u001b[0m     \u001b[39mreturn\u001b[39;00m np\u001b[39m.\u001b[39marray([log(a\u001b[39m*\u001b[39m(\u001b[39m1\u001b[39m\u001b[39m-\u001b[39md))\u001b[39m+\u001b[39m_lf(eb,es\u001b[39m+\u001b[39mu,n_buys,n_sells), \n\u001b[1;32m     <a href='file:///Users/guillaume/MyProjects/master_thesis/pin-code/pin_model_simulation.py?line=74'>75</a>\u001b[0m                    log(a\u001b[39m*\u001b[39md)\u001b[39m+\u001b[39m_lf(eb\u001b[39m+\u001b[39mu,es,n_buys,n_sells), \n\u001b[0;32m---> <a href='file:///Users/guillaume/MyProjects/master_thesis/pin-code/pin_model_simulation.py?line=75'>76</a>\u001b[0m                    log(\u001b[39m1\u001b[39m\u001b[39m-\u001b[39ma)\u001b[39m+\u001b[39m_lf(eb,es,n_buys,n_sells)])\n",
      "File \u001b[0;32m~/MyProjects/master_thesis/pin-code/pin_model_simulation.py:70\u001b[0m, in \u001b[0;36m_lf\u001b[0;34m(eb, es, n_buys, n_sells)\u001b[0m\n\u001b[1;32m     <a href='file:///Users/guillaume/MyProjects/master_thesis/pin-code/pin_model_simulation.py?line=68'>69</a>\u001b[0m \u001b[39mdef\u001b[39;00m \u001b[39m_lf\u001b[39m(eb, es, n_buys, n_sells):\n\u001b[0;32m---> <a href='file:///Users/guillaume/MyProjects/master_thesis/pin-code/pin_model_simulation.py?line=69'>70</a>\u001b[0m     \u001b[39mreturn\u001b[39;00m \u001b[39m-\u001b[39;49meb\u001b[39m+\u001b[39;49mn_buys\u001b[39m*\u001b[39;49mlog(eb)\u001b[39m-\u001b[39;49mlfact(n_buys)\u001b[39m-\u001b[39;49mes\u001b[39m+\u001b[39mn_sells\u001b[39m*\u001b[39mlog(es)\u001b[39m-\u001b[39mlfact(n_sells)\n",
      "\u001b[0;31mKeyboardInterrupt\u001b[0m: "
     ]
    }
   ],
   "source": [
    "from pin_model_simulation import fit\n",
    "\n",
    "# create another strcture\n",
    "for i in tqdm(range(buy_and_sell.shape[0])):\n",
    "    value = buy_and_sell.iloc[i]\n",
    "    #print(value[\"buy\"][:])\n",
    "    res = fit(pd.Series(value[\"buy\"]), pd.Series(value[\"sell\"]),1)\n",
    "    PIN = (res['a']*res['mu'])/((res['a']*res['mu'])+res['eb']+res['es'])\n",
    "    print(PIN)"
   ]
  },
  {
   "cell_type": "code",
   "execution_count": 93,
   "metadata": {},
   "outputs": [
    {
     "name": "stdout",
     "output_type": "stream",
     "text": [
      "{'a': 0.47706036644809025, 'd': 0.48479059294817367, 'eb': 399.4526227223668, 'es': 415.6264476285208, 'mu': 458.8773044131406, 'f': 10935.64900368124, 'rc': 0}\n"
     ]
    }
   ],
   "source": [
    "print(resultat)"
   ]
  },
  {
   "cell_type": "code",
   "execution_count": null,
   "metadata": {},
   "outputs": [],
   "source": []
  }
 ],
 "metadata": {
  "interpreter": {
   "hash": "341dbb0228026b4ecb63ec2c963c0bc9e390d2a5bb9f8cc5c27b16fb04e861ce"
  },
  "kernelspec": {
   "display_name": "Python 3.8.1 ('venv': venv)",
   "language": "python",
   "name": "python3"
  },
  "language_info": {
   "codemirror_mode": {
    "name": "ipython",
    "version": 3
   },
   "file_extension": ".py",
   "mimetype": "text/x-python",
   "name": "python",
   "nbconvert_exporter": "python",
   "pygments_lexer": "ipython3",
   "version": "3.8.1"
  },
  "orig_nbformat": 4
 },
 "nbformat": 4,
 "nbformat_minor": 2
}
